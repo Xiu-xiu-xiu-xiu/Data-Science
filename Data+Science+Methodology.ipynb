{
 "cells": [
  {
   "cell_type": "markdown",
   "metadata": {},
   "source": [
    "<a href=\"https://github.com/xiuwenbo?tab=repositories\">\n",
    "    <img src=\"https://raw.githubusercontent.com/xiuwenbo/Markdown-Photos/master/IMG_5508.JPG\" width=\"200\" align=\"center\">\n",
    "</a>  \n",
    "\n",
    "\n",
    "                                                                                                   @Xiuwenbo Wang "
   ]
  },
  {
   "cell_type": "markdown",
   "metadata": {},
   "source": [
    "# Data Science Methodology"
   ]
  },
  {
   "cell_type": "markdown",
   "metadata": {},
   "source": [
    "**Hello :)** In this notebook, you will learn how to think like a data scientist, including taking the steps involved in tackling a data science problem and applying them to interesting, real-world examples. \n",
    "\n",
    "These steps have included: \n",
    "* Forming a concrete business or research **problem**\n",
    "* **Collecting** and **analyzing** data\n",
    "* Building a model, and understanding the **feedback** after model **deployment**. \n",
    "\n",
    "You will learn methodical ways of moving from problem to approach, including the importance of understanding the question, the business goals and objectives, and picking the most effective analytic approach to answer the question and solve the problem. \n",
    "\n",
    "You will also learn methodical ways of working with the data, specifically, determining the data requirements, collecting the appropriate data, understanding the data, and then preparing the data for modeling! \n",
    "\n",
    "You are going to learn how to model the data by using the appropriate analytic approach, based on the data requirements and the problem that you were trying to solve. Once the approach was selected, you will learn the steps involved in evaluating and deploying the model, getting feedback on it, and using that feedback constructively so as to improve the model. \n",
    "\n",
    "Remember: the stages of this methodology are **iterative!** "
   ]
  },
  {
   "cell_type": "markdown",
   "metadata": {},
   "source": [
    "## Module 1: From Problem to Approach and from Requirements to Collection\n",
    "    \n",
    "* Business Understanding\n",
    "* Analytic Approach\n",
    "* Data Requirements\n",
    "* Data Collection"
   ]
  },
  {
   "cell_type": "markdown",
   "metadata": {},
   "source": [
    "### M1.1 Business Understanding\n",
    "\n",
    "![avatar](https://raw.githubusercontent.com/xiuwenbo/Markdown-Photos/master/ML%20Coaching/Data%20Science%20Methodology/From%20Understanding%20to%20Approach.png)\n"
   ]
  },
  {
   "cell_type": "markdown",
   "metadata": {},
   "source": [
    "__Business Understanding:__ What is the problem that you are trying to solve?\n",
    "\n",
    "\n",
    "1. Establishing __a clearly defined question__ starts with understanding __the GOAL __of the person who is asking the question. \n",
    "\n",
    "2. Once the goal is clarified, the next piece of the puzzle is __to figure out the objectives that are in support of the goal__.    \n",
    "By breaking down the objectives, structured discussions can take place where priorities can be identified in a way that can lead to organizing and planning on how to tackle the problem. Depending on the problem, different stakeholders will need to be engaged in the discussion to help determine requirements and clarify questions.\n",
    "\n",
    "Note: The key business sponsors involvement throughout the project was critical, in that the sponsor: Set overall direction Remained engaged and provided guidance. Ensured necessary support, where needed."
   ]
  },
  {
   "cell_type": "markdown",
   "metadata": {},
   "source": [
    "### M1.2 Analytics Approach\n"
   ]
  },
  {
   "cell_type": "markdown",
   "metadata": {},
   "source": [
    "__Analytics Approach:__ How can you use the data to answer the question?\n",
    "\n",
    "Selecting the right analytic approach depends on the question being asked. Once the problem to be addressed is defined, the appropriate analytic approach for the problem is selected in the context of the business requirements. This is the second stage of the data science methodology. "
   ]
  },
  {
   "cell_type": "markdown",
   "metadata": {},
   "source": [
    "![avatar](https://raw.githubusercontent.com/xiuwenbo/Markdown-Photos/master/ML%20Coaching/Data%20Science%20Methodology/Different%20Approach.png)"
   ]
  },
  {
   "cell_type": "markdown",
   "metadata": {},
   "source": [
    "* If the question is to determine __probabilities of an action__, then a __predictive model__ might be used. \n",
    "\n",
    "* If the question is to __show relationships__, a __descriptive approach__ maybe be required.\n",
    "\n",
    "__Statistical analysis__ applies to problems that require counts: if the question requires a yes/ no answer, then a classification approach to predicting a response would be suitable.\n",
    "***"
   ]
  },
  {
   "cell_type": "markdown",
   "metadata": {},
   "source": [
    "### M1.3 Data Requirements\n",
    "\n"
   ]
  },
  {
   "cell_type": "markdown",
   "metadata": {},
   "source": [
    "![avatar](https://raw.githubusercontent.com/xiuwenbo/Markdown-Photos/master/ML%20Coaching/Data%20Science%20Methodology/requirements.png)"
   ]
  },
  {
   "cell_type": "markdown",
   "metadata": {},
   "source": [
    "If the problem that needs to be resolved is \"a recipe\", so to speak, and data is \"an ingredient\", then the data scientist needs to identify: \n",
    "\n",
    "1. which ingredientsare required.\n",
    "2. how to source or the collect them. \n",
    "3. how to understand or work with them\n",
    "4. and how to prepare the data to meet the desired outcome.\n",
    "\n",
    "\n",
    "Prior to undertaking the data collection and data preparation stages of the methodology, it's vital to define the data requirements for decision-tree classification. This includes __identifying the necessary data content, formats and sources for initial data collection. __"
   ]
  },
  {
   "cell_type": "markdown",
   "metadata": {},
   "source": [
    "### M1.4 Data Collection\n",
    "\n",
    "In this phase the data requirements are revised and decisions are made as to whether or not the collection requires more or less data. \n",
    "\n",
    "Once the data ingredients are collected, then in the data collection stage, the data scientist will have a good understanding of what they will be working with. \n",
    "\n",
    "Techniques such as __descriptive statistics and visualization__ can be applied to the data set, to assess _the content, quality, and initial insights_ about the data. Gaps in data will be identified and plans to either fill or make substitutions will have to be made. \n",
    "\n",
    "In essence, the ingredients are now sitting on the cutting board. \n",
    "\n",
    "***\n"
   ]
  },
  {
   "cell_type": "markdown",
   "metadata": {},
   "source": [
    "## Module 2: From Understanding to Preparation and from Modeling to Evaluation\n",
    "* Data Understanding\n",
    "* Data Preparation\n",
    "* Modeling\n",
    "* Evaluation"
   ]
  },
  {
   "cell_type": "markdown",
   "metadata": {},
   "source": [
    "![avatar](https://raw.githubusercontent.com/xiuwenbo/Markdown-Photos/master/ML%20Coaching/Data%20Science%20Methodology/data%20understanding%20.png)"
   ]
  },
  {
   "cell_type": "markdown",
   "metadata": {},
   "source": [
    "### M2.1 Data Understanding\n"
   ]
  },
  {
   "cell_type": "markdown",
   "metadata": {},
   "source": [
    "Data understanding encompasses all activities related to constructing the data set. \n",
    "\n",
    "Essentially, the data understanding section of the data science methodology answers the question: \n",
    "* Is the data that you collected representative of the problem to be solved?"
   ]
  },
  {
   "cell_type": "markdown",
   "metadata": {},
   "source": [
    "### M2.2 Data Preparation\n",
    "\n",
    "In a sense, data preparation is similar to washing freshly picked vegetables in so far as unwanted elements, such as dirt or imperfections, are removed. \n",
    "\n",
    "Together with data collection and data understanding, data preparation is the most time-consuming phase of a data science project, typically taking seventy percent and even up to even ninety percent of the overall project time. \n",
    "\n",
    "Automating some of the data collection and preparation processes in the database, can reduce this time to as little as 50 percent. This time savings translates into increased time for data scientists to focus on creating models.\n",
    "\n",
    "transforming data in the data preparation phase is the process of getting the data into a state where it may be easier to work with. Specifically, the data preparation stage of the methodology answers the question: What are the ways in which data is prepared? \n",
    "\n",
    "To work effectively with the data, it must be prepared in a way that addresses missing or invalid values and removes duplicates, toward ensuring that everything is properly formatted. __Feature engineering __is also part of data preparation. \n",
    "* It is the process of using domain knowledge of the data to create features that make the machine learning algorithms work. A feature is a characteristic that might help when solving a problem. \n",
    "\n",
    "Features within the data are important to predictive models and will influence the results you want to achieve. Feature engineering is critical when machine learning tools are being applied to analyze the data. \n",
    "\n",
    "When working with text, text analysis steps for coding the data are required to be able to __manipulate the data__. \n",
    "\n",
    "The data scientist needs to know what they're looking for within their dataset to address the question. The text analysis is critical to ensure that __the proper groupings__ are set, and that the programming is not overlooking what is hidden within. \n",
    "\n",
    "The data preparation phase sets the stage for the next steps in addressing the question. While this phase may take a while to do, if done right the results will support the project. ** If this is skipped over**, then the outcome will not be up to par and may have you back at the drawing board. \n",
    "\n",
    "**Note: It takes just one bad ingredient to ruin a fine meal.**\n",
    "\n",
    "\n",
    "***"
   ]
  },
  {
   "cell_type": "markdown",
   "metadata": {},
   "source": [
    "![avatar](https://raw.githubusercontent.com/xiuwenbo/Markdown-Photos/master/ML%20Coaching/Data%20Science%20Methodology/Modelling.png)"
   ]
  },
  {
   "cell_type": "markdown",
   "metadata": {},
   "source": [
    "### M2.3 Modeling\n",
    "\n",
    "**Data Modelling** focuses on developing models that are **either descriptive or predictive**. \n",
    "\n",
    "* An example of a descriptive model might examine things like: if a person did this, then they're likely to prefer that. \n",
    "\n",
    "A predictive model tries to yield yes/no, or stop/go type outcomes. These models are based on the analytic approach that was taken, either statistically driven or machine learning driven. \n",
    "\n",
    "The data scientist will use a **training set** for predictive modelling. A training set is a set of historical data in which the outcomes are already known. The training set acts like a gauge to determine if the model needs to be calibrated. In this stage, the data scientist will **play around with different algorithms** to ensure that the variables in play are actually required. \n",
    "\n",
    "The success of data compilation, preparation and modelling, depends on the understanding of the problem at hand, and the appropriate analytical approach being taken. The data supports the answering of the question, and like the quality of the ingredients in cooking, sets the stage for the outcome. \n",
    "\n",
    "Constant refinement, adjustments and tweaking are necessary within each step to ensure the outcome is one that is solid. In John Rollins' descriptive Data Science Methodology, the framework is geared to do **3 things**: \n",
    "\n",
    "* First, understand the question at hand. \n",
    "\n",
    "* Second, select an analytic approach or method to solve the problem. \n",
    "    \n",
    "* Third, obtain, understand, prepare, and model the data. \n",
    "\n",
    "The end goal is to move the data scientist to a point where a data model can be built to answer the question.\n",
    "\n",
    "\n",
    "In this stage of the methodology, **model evaluation, deployment, and feedback** loops ensure that the answer is near and relevant. This relevance is critical to the data science field overall, as it ís a fairly new field of study, and we are interested in the possibilities it has to offer. **The more people that benefit from the outcomes of this practice, the further the field will develop.**\n"
   ]
  },
  {
   "cell_type": "markdown",
   "metadata": {},
   "source": [
    "### M2.4 Evaluation\n",
    "\n",
    "Model evaluation is performed during model development and before the model is deployed. \n",
    "\n",
    "Evaluation allows the **quality of the model** to be assessed but it's also an opportunity to see if it meets the initial request. Evaluation answers the question: \n",
    "* Does the model used really answer the initial question or does it need to be adjusted? \n",
    "\n",
    "Model evaluation can have two main phases. \n",
    "* The first is the **diagnostic measures phase**, which is used to ensure the model is working as intended. If the model is a predictive model, a decision tree can be used to evaluate if the answer the model can output, is aligned to the initial design. It can be used to see where there are areas that require adjustments. If the model is a descriptive model, one in which relationships are being assessed, then a testing set with known outcomes can be applied, and the model can be refined as needed. \n",
    "* The second phase of evaluation that may be used is **statistical significance testing**. This type of evaluation can be applied to the model to ensure that the data is being properly handled and interpreted within the model. This is designed to avoid unnecessary second guessing when the answer is revealed. \n",
    "\n",
    "***"
   ]
  },
  {
   "cell_type": "markdown",
   "metadata": {},
   "source": [
    "## Module 3: From Deployment to Feedback\n",
    "* Deployment\n",
    "* Feedback"
   ]
  },
  {
   "cell_type": "markdown",
   "metadata": {},
   "source": [
    "![avatar](https://raw.githubusercontent.com/xiuwenbo/Markdown-Photos/master/ML%20Coaching/Data%20Science%20Methodology/deploy.png)"
   ]
  },
  {
   "cell_type": "markdown",
   "metadata": {},
   "source": [
    "### M3.1 Deployment\n",
    "\n",
    "Once the model is evaluated and the data scientist is confident it will work, it is deployed and put to the ultimate test. \n",
    "\n",
    "Depending on the purpose of the model, it may be rolled out to a limited group of users or in a test environment, to build up confidence in applying the outcome for use across the board."
   ]
  },
  {
   "cell_type": "markdown",
   "metadata": {},
   "source": [
    "### M3.2 Feedback\n",
    "\n",
    "Once in play, feedback from the users will help to refine the model and assess it for performance and impact. \n",
    "\n",
    "The value of the model will be dependent on successfully incorporating feedback and making adjustments for as long as the solution is required. Throughout the Data Science Methodology, each step sets the stage for the next. Making the methodology cyclical, ensures refinement at each stage in the game. The feedback process is rooted in the notion that, **the more you know, the more that you'll want to know.** \n",
    "\n",
    "Once the model is evaluated and the data scientist is confident it'll work, it is deployed and put to the ultimate test: actual, real-time use in the field."
   ]
  },
  {
   "cell_type": "markdown",
   "metadata": {},
   "source": [
    "* * *\n",
    "- - -"
   ]
  },
  {
   "cell_type": "markdown",
   "metadata": {},
   "source": [
    "<h2>Contributors:</h2><h3><a href=\"https://www.linkedin.com/in/xiuwenbo-gavin-wang-b73768134/\"> Xiuwenbo Wang</a></h3>"
   ]
  }
 ],
 "metadata": {
  "kernelspec": {
   "display_name": "Python 3",
   "language": "python",
   "name": "python3"
  },
  "language_info": {
   "codemirror_mode": {
    "name": "ipython",
    "version": 3
   },
   "file_extension": ".py",
   "mimetype": "text/x-python",
   "name": "python",
   "nbconvert_exporter": "python",
   "pygments_lexer": "ipython3",
   "version": "3.6.1"
  }
 },
 "nbformat": 4,
 "nbformat_minor": 2
}
